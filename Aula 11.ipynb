{
  "nbformat": 4,
  "nbformat_minor": 0,
  "metadata": {
    "colab": {
      "provenance": []
    },
    "kernelspec": {
      "name": "python3",
      "display_name": "Python 3"
    },
    "language_info": {
      "name": "python"
    }
  },
  "cells": [
    {
      "cell_type": "markdown",
      "source": [
        "#Trabalhando com Mensageria\n"
      ],
      "metadata": {
        "id": "Kp_Pgbvq_Zjv"
      }
    },
    {
      "cell_type": "markdown",
      "source": [
        "Requisição de um API"
      ],
      "metadata": {
        "id": "PGwJLTf8_k9L"
      }
    },
    {
      "cell_type": "code",
      "source": [
        "pip install requests\n"
      ],
      "metadata": {
        "colab": {
          "base_uri": "https://localhost:8080/"
        },
        "id": "SGGabVk-_svR",
        "outputId": "043dbc58-27e6-44db-aace-be101ca7246b"
      },
      "execution_count": 1,
      "outputs": [
        {
          "output_type": "stream",
          "name": "stdout",
          "text": [
            "Requirement already satisfied: requests in /usr/local/lib/python3.10/dist-packages (2.32.3)\n",
            "Requirement already satisfied: charset-normalizer<4,>=2 in /usr/local/lib/python3.10/dist-packages (from requests) (3.4.0)\n",
            "Requirement already satisfied: idna<4,>=2.5 in /usr/local/lib/python3.10/dist-packages (from requests) (3.10)\n",
            "Requirement already satisfied: urllib3<3,>=1.21.1 in /usr/local/lib/python3.10/dist-packages (from requests) (2.2.3)\n",
            "Requirement already satisfied: certifi>=2017.4.17 in /usr/local/lib/python3.10/dist-packages (from requests) (2024.8.30)\n"
          ]
        }
      ]
    },
    {
      "cell_type": "markdown",
      "source": [
        "Importando bibliotecas"
      ],
      "metadata": {
        "id": "FxO9bCgHGE6l"
      }
    },
    {
      "cell_type": "code",
      "source": [
        "import requests\n",
        "import json"
      ],
      "metadata": {
        "id": "sJfo7t7PGMjZ"
      },
      "execution_count": 2,
      "outputs": []
    },
    {
      "cell_type": "markdown",
      "source": [
        "Importando URL"
      ],
      "metadata": {
        "id": "0I1LN8J4Grjs"
      }
    },
    {
      "cell_type": "code",
      "source": [
        "url = 'https://economia.awesomeapi.com.br/json/last/USD-BRL'"
      ],
      "metadata": {
        "id": "IxSadxFBGvPa"
      },
      "execution_count": 3,
      "outputs": []
    },
    {
      "cell_type": "markdown",
      "source": [
        "Cotação atual"
      ],
      "metadata": {
        "id": "MhFu_-ROIi4k"
      }
    },
    {
      "cell_type": "code",
      "source": [
        "cotacao = requests.get(url).content"
      ],
      "metadata": {
        "id": "puaIFxRTIlY6"
      },
      "execution_count": 4,
      "outputs": []
    },
    {
      "cell_type": "markdown",
      "source": [
        "Ler Arquivo JSON"
      ],
      "metadata": {
        "id": "OA6zDiB7Jnhg"
      }
    },
    {
      "cell_type": "code",
      "source": [
        "dic = json.loads(cotacao)"
      ],
      "metadata": {
        "id": "iPlL_jioJvZw"
      },
      "execution_count": 6,
      "outputs": []
    },
    {
      "cell_type": "markdown",
      "source": [
        "Visualizar o valor do Dolar"
      ],
      "metadata": {
        "id": "RErkGTx-KAH5"
      }
    },
    {
      "cell_type": "code",
      "source": [
        "dic[\"USDBRL\"] ['bid']\n",
        "print(dic.values())\n"
      ],
      "metadata": {
        "colab": {
          "base_uri": "https://localhost:8080/"
        },
        "id": "EPKWUCFRKEwZ",
        "outputId": "0d66c3b1-caab-4cb3-8616-8d68d07ff84f"
      },
      "execution_count": 9,
      "outputs": [
        {
          "output_type": "stream",
          "name": "stdout",
          "text": [
            "dict_values([{'code': 'USD', 'codein': 'BRL', 'name': 'Dólar Americano/Real Brasileiro', 'high': '5.8175', 'low': '5.7235', 'varBid': '0.0456', 'pctChange': '0.79', 'bid': '5.7937', 'ask': '5.7954', 'timestamp': '1731528396', 'create_date': '2024-11-13 17:06:36'}])\n"
          ]
        }
      ]
    },
    {
      "cell_type": "markdown",
      "source": [
        "#Exercício\n",
        "Crie uma lista em reais com os valores: 1,2,5,10,20,50,100 e 200.Faça a conversão de reais para dolar atual. Mostre em tela as duas comparações."
      ],
      "metadata": {
        "id": "k7BAampsLnOq"
      }
    },
    {
      "cell_type": "code",
      "source": [
        "import requests\n",
        "import json\n",
        "\n",
        "reais = [1,2,5,10,20,50,100,200]\n",
        "cotacao = requests.get(url).content\n",
        "dic = json.loads(cotacao)\n",
        "dolar = [round(x/float(dic['USDBRL']['bid']),2) for x in reais]\n",
        "\n",
        "print(\"{:<4}{:<6}\".format(\"N°\",\"USD\",\"BRL\"))\n",
        "for x in range(0,len(reais)):\n",
        "  print(\"{:>4}{:>6}{:>6}\".format(x+1,reais[x],dolar[x]))"
      ],
      "metadata": {
        "colab": {
          "base_uri": "https://localhost:8080/"
        },
        "id": "8gt_k3XhMkGB",
        "outputId": "15c9e9f1-7358-4ac4-c3e8-ff4667fdb99d"
      },
      "execution_count": 15,
      "outputs": [
        {
          "output_type": "stream",
          "name": "stdout",
          "text": [
            "N°  USD   \n",
            "   1     1  0.17\n",
            "   2     2  0.34\n",
            "   3     5  0.86\n",
            "   4    10  1.72\n",
            "   5    20  3.45\n",
            "   6    50  8.62\n",
            "   7   100 17.25\n",
            "   8   200  34.5\n"
          ]
        }
      ]
    },
    {
      "cell_type": "markdown",
      "source": [
        "#Exercício 2"
      ],
      "metadata": {
        "id": "Kt7Fps2gS8hw"
      }
    },
    {
      "cell_type": "markdown",
      "source": [
        "Crie uma lista em reais com os valores:1,2,5,10,20,50,100 e 200 .Faça a conversão de reais para euro atual .Mostre em tela as duas comparações."
      ],
      "metadata": {
        "id": "TN7JRfZAUveK"
      }
    },
    {
      "cell_type": "code",
      "source": [
        "url = 'https://economia.awesomeapi.com.br/json/last/EUR-BRL'\n",
        "\n",
        "reais = [1,2,5,10,50,100,200]\n",
        "cotacao = requests.get(url).content\n",
        "dic = json.loads(cotacao)\n",
        "euro = [round(x/float(dic[\"EURBRL\"][\"bid\"]),2) for x in reais]\n",
        "\n",
        "print(\"{:>4}{:<6}{:<6}\".format(\"N°\",\"BRL\",\"EUR\"))\n",
        "for x in range(0,len(reais)):\n",
        "  print(\"{:<4}{:<6}{:<6}\".format(x+1,reais[x],euro[x]))\n"
      ],
      "metadata": {
        "colab": {
          "base_uri": "https://localhost:8080/"
        },
        "id": "-4qOA-wrWYna",
        "outputId": "b0ab27d8-3fd3-4f11-87bc-2a9714fa74fd"
      },
      "execution_count": 23,
      "outputs": [
        {
          "output_type": "stream",
          "name": "stdout",
          "text": [
            "  N°BRL   EUR   \n",
            "1   1     0.16  \n",
            "2   2     0.33  \n",
            "3   5     0.82  \n",
            "4   10    1.63  \n",
            "5   50    8.16  \n",
            "6   100   16.32 \n",
            "7   200   32.64 \n"
          ]
        }
      ]
    },
    {
      "cell_type": "markdown",
      "source": [
        "#Exercício 3\n"
      ],
      "metadata": {
        "id": "kaN01ClAvBii"
      }
    },
    {
      "cell_type": "code",
      "source": [],
      "metadata": {
        "id": "7LtxTud5w6iX"
      },
      "execution_count": null,
      "outputs": []
    },
    {
      "cell_type": "code",
      "source": [
        "url1 = \"https://economia.awesomeapi.com.br/json/last/EUR-BRL\"\n",
        "url2 = \"https://economia.awesomeapi.com.br/json/last/USD-BRL\"\n",
        "url3 = \"https://economia.awesomeapi.com.br/json/last/ARS-BRL\"\n",
        "\n",
        "cot1 = requests.get(url1).content\n",
        "cot2 = requests.get(url2).content\n",
        "cot3 = requests.get(url3).content\n",
        "\n",
        "dic1 = json.loads(cot1)\n",
        "dic2 = json.loads(cot2)\n",
        "dic3 = json.loads(cot3)\n",
        "\n",
        "BRL = [1,2,5,10,50,100,200]\n",
        "EUR = [round(x/float(dic1[\"EURBRL\"][\"bid\"]),2) for x in reais]\n",
        "USD = [round(x/float(dic2[\"USDBRL\"][\"bid\"]),2) for x in reais]\n",
        "ARS = [round(x/float(dic3[\"ARSBRL\"][\"bid\"]),2) for x in reais]\n",
        "\n",
        "print(\"{:<6}{:<6}{:<6}{:<6}{:<6}\".format(\"N°\",\"BRL\",\"EUR\",\"USD\",\"ARS\"))\n",
        "print(\"_________________________________\")\n",
        "for x in range(0,len(reais)):\n",
        "  print(\"{:<6}{:<6}{:<6}{:<6}{:<6}\".format(x+1,BRL[x],EUR[x],USD[x],ARS[x]))\n",
        "\n",
        "\n",
        "\n"
      ],
      "metadata": {
        "colab": {
          "base_uri": "https://localhost:8080/"
        },
        "id": "Ll9sCNW4vIsZ",
        "outputId": "b70aba01-c665-4e32-fd1e-babc7a224ca0"
      },
      "execution_count": 31,
      "outputs": [
        {
          "output_type": "stream",
          "name": "stdout",
          "text": [
            "N°    BRL   EUR   USD   ARS   \n",
            "_________________________________\n",
            "1     1     0.16  0.17  172.41\n",
            "2     2     0.33  0.34  344.83\n",
            "3     5     0.82  0.86  862.07\n",
            "4     10    1.63  1.72  1724.14\n",
            "5     50    8.16  8.61  8620.69\n",
            "6     100   16.32 17.22 17241.38\n",
            "7     200   32.64 34.45 34482.76\n"
          ]
        }
      ]
    }
  ]
}